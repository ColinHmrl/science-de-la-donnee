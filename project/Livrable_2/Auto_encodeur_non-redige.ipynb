{
 "cells": [
  {
   "cell_type": "markdown",
   "metadata": {
    "id": "11BualWM3z2V"
   },
   "source": [
    "## 1.2 Dataset"
   ]
  },
  {
   "cell_type": "code",
   "execution_count": 1,
   "metadata": {},
   "outputs": [],
   "source": [
    "# !pip install glob2"
   ]
  },
  {
   "cell_type": "code",
   "execution_count": 2,
   "metadata": {
    "id": "umQTZ2yN3z2W",
    "notebookRunGroups": {
     "groupValue": "1"
    },
    "scrolled": true
   },
   "outputs": [
    {
     "name": "stderr",
     "output_type": "stream",
     "text": [
      "2023-10-17 12:59:32.156851: E tensorflow/compiler/xla/stream_executor/cuda/cuda_dnn.cc:9342] Unable to register cuDNN factory: Attempting to register factory for plugin cuDNN when one has already been registered\n",
      "2023-10-17 12:59:32.156925: E tensorflow/compiler/xla/stream_executor/cuda/cuda_fft.cc:609] Unable to register cuFFT factory: Attempting to register factory for plugin cuFFT when one has already been registered\n",
      "2023-10-17 12:59:32.156957: E tensorflow/compiler/xla/stream_executor/cuda/cuda_blas.cc:1518] Unable to register cuBLAS factory: Attempting to register factory for plugin cuBLAS when one has already been registered\n",
      "2023-10-17 12:59:32.164331: I tensorflow/core/platform/cpu_feature_guard.cc:182] This TensorFlow binary is optimized to use available CPU instructions in performance-critical operations.\n",
      "To enable the following instructions: AVX2 FMA, in other operations, rebuild TensorFlow with the appropriate compiler flags.\n"
     ]
    }
   ],
   "source": [
    "%load_ext autoreload\n",
    "%autoreload 2\n",
    "\n",
    "import tensorflow as tf\n",
    "from tensorflow import keras\n",
    "from tensorflow.keras.utils import image_dataset_from_directory\n",
    "import numpy as np\n",
    "import sys\n",
    "\n",
    "\n",
    "# Configurations principales de nos modèles\n",
    "IMG_SIZE          = 150             # taille coté final d'une image en pixel (ici 28x28)\n",
    "NB_EPOCHS_DENOISE = 40               # nombre epoch alogithme debruiter\n",
    "BATCH_SIZE        = 16            # taille batch de traitement\n",
    "SAVE_MODEL_DENOISE = \"denoiser.h5\"     # sauvegarde du modele de debruitage\n",
    "\n",
    "def process(image):\n",
    "    image = tf.cast(image/255. ,tf.float32)\n",
    "    return image\n",
    "\n",
    "\n",
    "# Import du .env\n",
    "import dotenv\n",
    "import os\n",
    "\n",
    "# Chargement du .env !!!!!!!!!!!! CHANGER LE PATH !!!!!!!!!!!!!!\n",
    "# Renvoie true si le .env est chargé\n",
    "dotenv.load_dotenv('/home/cesi/datascience/.env.local')\n",
    "\n",
    "models_path = os.environ.get('MODELS_PATH_LIVRABLE2')\n",
    "sys.path.insert(0, models_path)\n",
    "\n",
    "import builder_vae\n",
    "import homemade\n",
    "import test2\n",
    "import resnet\n",
    "import test3\n",
    "\n",
    "\n",
    "SAVE_WEIGHTS_PATH = os.environ.get('WEIGHT_PATH_LIVRABLE2')\n",
    "SOURCE_LIVRABLE2_PATH = os.getenv(\"SOURCE_LIVRABLE2_PATH\")"
   ]
  },
  {
   "cell_type": "code",
   "execution_count": 3,
   "metadata": {},
   "outputs": [
    {
     "name": "stdout",
     "output_type": "stream",
     "text": [
      "Found 9993 files belonging to 1 classes.\n",
      "Using 7995 files for training.\n",
      "Using 1998 files for validation.\n"
     ]
    },
    {
     "name": "stderr",
     "output_type": "stream",
     "text": [
      "2023-10-17 13:01:16.936774: I tensorflow/compiler/xla/stream_executor/cuda/cuda_gpu_executor.cc:880] could not open file to read NUMA node: /sys/bus/pci/devices/0000:01:00.0/numa_node\n",
      "Your kernel may have been built without NUMA support.\n",
      "2023-10-17 13:01:16.941269: I tensorflow/compiler/xla/stream_executor/cuda/cuda_gpu_executor.cc:880] could not open file to read NUMA node: /sys/bus/pci/devices/0000:01:00.0/numa_node\n",
      "Your kernel may have been built without NUMA support.\n",
      "2023-10-17 13:01:16.941316: I tensorflow/compiler/xla/stream_executor/cuda/cuda_gpu_executor.cc:880] could not open file to read NUMA node: /sys/bus/pci/devices/0000:01:00.0/numa_node\n",
      "Your kernel may have been built without NUMA support.\n",
      "2023-10-17 13:01:16.942051: I tensorflow/compiler/xla/stream_executor/cuda/cuda_gpu_executor.cc:880] could not open file to read NUMA node: /sys/bus/pci/devices/0000:01:00.0/numa_node\n",
      "Your kernel may have been built without NUMA support.\n",
      "2023-10-17 13:01:16.942107: I tensorflow/compiler/xla/stream_executor/cuda/cuda_gpu_executor.cc:880] could not open file to read NUMA node: /sys/bus/pci/devices/0000:01:00.0/numa_node\n",
      "Your kernel may have been built without NUMA support.\n",
      "2023-10-17 13:01:16.942133: I tensorflow/compiler/xla/stream_executor/cuda/cuda_gpu_executor.cc:880] could not open file to read NUMA node: /sys/bus/pci/devices/0000:01:00.0/numa_node\n",
      "Your kernel may have been built without NUMA support.\n",
      "2023-10-17 13:01:17.569877: I tensorflow/compiler/xla/stream_executor/cuda/cuda_gpu_executor.cc:880] could not open file to read NUMA node: /sys/bus/pci/devices/0000:01:00.0/numa_node\n",
      "Your kernel may have been built without NUMA support.\n",
      "2023-10-17 13:01:17.569923: I tensorflow/compiler/xla/stream_executor/cuda/cuda_gpu_executor.cc:880] could not open file to read NUMA node: /sys/bus/pci/devices/0000:01:00.0/numa_node\n",
      "Your kernel may have been built without NUMA support.\n",
      "2023-10-17 13:01:17.569931: I tensorflow/core/common_runtime/gpu/gpu_device.cc:1977] Could not identify NUMA node of platform GPU id 0, defaulting to 0.  Your kernel may not have been built with NUMA support.\n",
      "2023-10-17 13:01:17.569964: I tensorflow/compiler/xla/stream_executor/cuda/cuda_gpu_executor.cc:880] could not open file to read NUMA node: /sys/bus/pci/devices/0000:01:00.0/numa_node\n",
      "Your kernel may have been built without NUMA support.\n",
      "2023-10-17 13:01:17.569981: I tensorflow/core/common_runtime/gpu/gpu_device.cc:1886] Created device /job:localhost/replica:0/task:0/device:GPU:0 with 6599 MB memory:  -> device: 0, name: Quadro P4000, pci bus id: 0000:01:00.0, compute capability: 6.1\n"
     ]
    }
   ],
   "source": [
    "\n",
    "x_train, x_test = image_dataset_from_directory(\n",
    "    SOURCE_LIVRABLE2_PATH,\n",
    "    image_size=(IMG_SIZE, IMG_SIZE),\n",
    "    batch_size=BATCH_SIZE,\n",
    "    label_mode=\"categorical\",\n",
    "    # label_mode=None,\n",
    "    shuffle=False,\n",
    "    validation_split=0.2,\n",
    "    subset=\"both\",\n",
    "    seed=123,\n",
    "    color_mode=\"rgb\"\n",
    ")\n",
    "\n",
    "AUTOTUNE = tf.data.experimental.AUTOTUNE\n",
    "\n",
    "x_train = x_train.map(lambda x,y: (x/255,y))\n",
    "x_test = x_test.map(lambda x,y: (x/255,y))"
   ]
  },
  {
   "cell_type": "code",
   "execution_count": 4,
   "metadata": {},
   "outputs": [
    {
     "name": "stdout",
     "output_type": "stream",
     "text": [
      "ls: cannot access './photoOnly/Photo': No such file or directory\n"
     ]
    }
   ],
   "source": [
    "%ls ./photoOnly/Photo"
   ]
  },
  {
   "cell_type": "markdown",
   "metadata": {
    "id": "dpI6DFBd3z2Y"
   },
   "source": [
    "Commençons par écrire une fonction qui permet de visualiser $n$ premiers enregistrements en noir et blanc. "
   ]
  },
  {
   "cell_type": "code",
   "execution_count": 5,
   "metadata": {
    "id": "oHzo3fUG3z2Y"
   },
   "outputs": [
    {
     "name": "stdout",
     "output_type": "stream",
     "text": [
      "Using TensorFlow backend\n"
     ]
    }
   ],
   "source": [
    "import matplotlib.pyplot as plt\n",
    "from random import uniform\n",
    "import tensorflow as tf\n",
    "# os.chdir(r'/tf')\n",
    "from keras_cv.layers import RandomGaussianBlur\n",
    "\n",
    "def add_noise(img, perturbation_conf):\n",
    "    pertubation = perturbation_conf['perturbation']\n",
    "    noised_img = img\n",
    "    if pertubation == 1:\n",
    "        blur_kernel_value = perturbation_conf['blur_kernel_size']\n",
    "        noised_img = RandomGaussianBlur(kernel_size=blur_kernel_value, factor=(0.5, 3))(noised_img)\n",
    "    elif pertubation == 2:\n",
    "        noise_value = perturbation_conf['noise_factor']\n",
    "        noise = tf.random.normal(shape=tf.shape(img), mean=0.0, stddev=noise_value/255, dtype=tf.float32)\n",
    "        noised_img = tf.cast(img, tf.float32) + noise\n",
    "    elif pertubation == 3:\n",
    "        noise_value = perturbation_conf['noise_factor']\n",
    "        blur_kernel_value = perturbation_conf['blur_kernel_size']\n",
    "        noise = tf.random.normal(shape=tf.shape(img), mean=0.0, stddev=noise_value/255, dtype=tf.float32)\n",
    "        noised_img = tf.cast(img, tf.float32) + noise\n",
    "        noised_img = RandomGaussianBlur(kernel_size=blur_kernel_value, factor=(0.5, 1))(noised_img)\n",
    "    else:\n",
    "        noised_img = img\n",
    "        \n",
    "    return noised_img, img\n",
    "\n",
    "\n",
    "noise_configuration = {\n",
    "    0:{\n",
    "    'perturbation': 1,\n",
    "    'blur_kernel_size': 6,\n",
    "    },\n",
    "    1:{\n",
    "    'perturbation': 2,\n",
    "    'noise_factor': 20\n",
    "    },\n",
    "    2:{\n",
    "    'perturbation': 3,\n",
    "    'noise_factor': 12,\n",
    "    'blur_kernel_size': 2\n",
    "    },\n",
    "    3:{\n",
    "    'perturbation': 0\n",
    "    }\n",
    "}\n",
    "\n",
    "x_train_noisy = x_train.map(lambda x,y: (add_noise(x, noise_configuration[1])))\n",
    "x_test_noisy = x_test.map(lambda x,y: (add_noise(x, noise_configuration[1])))\n",
    "\n",
    "x_train_blur = x_train.map(lambda x,y: (add_noise(x, noise_configuration[0])))\n",
    "x_test_blur = x_test.map(lambda x,y: (add_noise(x, noise_configuration[0])))\n",
    "\n",
    "x_train_noise_blur = x_train.map(lambda x,y: (add_noise(x, noise_configuration[2])))\n",
    "x_test_noise_blur = x_test.map(lambda x,y: (add_noise(x, noise_configuration[2])))\n",
    "\n",
    "x_train_clean = x_train.map(lambda x,y: (add_noise(x, noise_configuration[3])))\n",
    "x_test_clean = x_test.map(lambda x,y: (add_noise(x, noise_configuration[3])))\n",
    "\n",
    "random_train_set = x_train_clean.concatenate(x_train_noisy).concatenate(x_train_blur).concatenate(x_train_noise_blur)\n",
    "random_test_set = x_test_clean.concatenate(x_test_noisy).concatenate(x_test_blur).concatenate(x_test_noise_blur)\n",
    "#shuffle the dataset\n",
    "# random_train_set = random_train_set.shuffle(1000)\n",
    "# random_test_set = random_test_set.shuffle(1000)\n",
    "\n",
    "\n",
    "# display three images on a single row with matplotlib \n",
    "def display_images(*images):\n",
    "    \"\"\"Display images on a single row.\"\"\"\n",
    "    plt.figure(figsize=(50, 50))\n",
    "    for index, image in enumerate(images):\n",
    "        plt.subplot(1, len(images), index+1)\n",
    "        plt.imshow(image)\n",
    "        plt.axis('off')\n",
    "    plt.show()\n",
    "\n",
    "    # plt.figure(figsize=(15, 15))\n",
    "    # ax = plt.subplot(1, 3, 1)\n",
    "    # plt.imshow(left)\n",
    "    # plt.gray()\n",
    "    # ax.get_xaxis().set_visible(False)\n",
    "    # ax.get_yaxis().set_visible(False)\n",
    "    # ax = plt.subplot(1, 3, 2)\n",
    "    # plt.imshow(middle)\n",
    "    # plt.gray()\n",
    "    # ax.get_xaxis().set_visible(False)\n",
    "    # ax.get_yaxis().set_visible(False)\n",
    "    # if right is None:\n",
    "    #     return\n",
    "    # ax = plt.subplot(1, 3, 3)\n",
    "    # plt.imshow(right)\n",
    "    # plt.gray()\n",
    "    # ax.get_xaxis().set_visible(False)\n",
    "    # ax.get_yaxis().set_visible(False)"
   ]
  },
  {
   "cell_type": "code",
   "execution_count": 6,
   "metadata": {},
   "outputs": [],
   "source": [
    "# display the same image from x_train and x_train_noisy and x_train_blur and x_train_noise_blur\n",
    "# for image, label in x_train.take(1):\n",
    "#     sample_image = image[0]\n",
    "#     sample_label = label\n",
    "# for image, label in x_train_noisy.take(1):\n",
    "#     sample_image_noisy = image[0]\n",
    "#     sample_label_noisy = label\n",
    "# for image, label in x_train_blur.take(1):\n",
    "#     sample_image_blur = image[0]\n",
    "#     sample_label_blur = label\n",
    "# for image, label in x_train_noise_blur.take(1):\n",
    "#     sample_image_noise_blur = image[0]\n",
    "#     sample_label_noise_blur = label\n",
    "# display_images(np.squeeze(sample_image), np.squeeze(sample_image_noisy), np.squeeze(sample_image_blur), np.squeeze(sample_image_noise_blur))"
   ]
  },
  {
   "cell_type": "markdown",
   "metadata": {
    "id": "_uLTS74F3z2Z"
   },
   "source": [
    "Voyons ce que ça donne :"
   ]
  },
  {
   "cell_type": "markdown",
   "metadata": {},
   "source": [
    "# AutoEncoder"
   ]
  },
  {
   "cell_type": "code",
   "execution_count": 7,
   "metadata": {
    "id": "_PC02d4V3z2s",
    "notebookRunGroups": {
     "groupValue": "1"
    }
   },
   "outputs": [
    {
     "name": "stdout",
     "output_type": "stream",
     "text": [
      "Model: \"model\"\n",
      "__________________________________________________________________________________________________\n",
      " Layer (type)                Output Shape                 Param #   Connected to                  \n",
      "==================================================================================================\n",
      " input_1 (InputLayer)        [(None, 150, 150, 3)]        0         []                            \n",
      "                                                                                                  \n",
      " conv2d (Conv2D)             (None, 150, 150, 64)         1792      ['input_1[0][0]']             \n",
      "                                                                                                  \n",
      " conv2d_1 (Conv2D)           (None, 150, 150, 64)         36928     ['conv2d[0][0]']              \n",
      "                                                                                                  \n",
      " dropout (Dropout)           (None, 150, 150, 64)         0         ['conv2d_1[0][0]']            \n",
      "                                                                                                  \n",
      " conv2d_2 (Conv2D)           (None, 150, 150, 128)        73856     ['dropout[0][0]']             \n",
      "                                                                                                  \n",
      " conv2d_3 (Conv2D)           (None, 150, 150, 128)        147584    ['conv2d_2[0][0]']            \n",
      "                                                                                                  \n",
      " conv2d_4 (Conv2D)           (None, 150, 150, 256)        295168    ['conv2d_3[0][0]']            \n",
      "                                                                                                  \n",
      " conv2d_5 (Conv2D)           (None, 150, 150, 128)        295040    ['conv2d_4[0][0]']            \n",
      "                                                                                                  \n",
      " conv2d_6 (Conv2D)           (None, 150, 150, 128)        147584    ['conv2d_5[0][0]']            \n",
      "                                                                                                  \n",
      " add (Add)                   (None, 150, 150, 128)        0         ['conv2d_3[0][0]',            \n",
      "                                                                     'conv2d_6[0][0]']            \n",
      "                                                                                                  \n",
      " conv2d_7 (Conv2D)           (None, 150, 150, 64)         73792     ['add[0][0]']                 \n",
      "                                                                                                  \n",
      " conv2d_8 (Conv2D)           (None, 150, 150, 64)         36928     ['conv2d_7[0][0]']            \n",
      "                                                                                                  \n",
      " add_1 (Add)                 (None, 150, 150, 64)         0         ['conv2d_8[0][0]',            \n",
      "                                                                     'conv2d_1[0][0]']            \n",
      "                                                                                                  \n",
      " conv2d_9 (Conv2D)           (None, 150, 150, 3)          1731      ['add_1[0][0]']               \n",
      "                                                                                                  \n",
      "==================================================================================================\n",
      "Total params: 1110403 (4.24 MB)\n",
      "Trainable params: 1110403 (4.24 MB)\n",
      "Non-trainable params: 0 (0.00 Byte)\n",
      "__________________________________________________________________________________________________\n"
     ]
    }
   ],
   "source": [
    "MODEL_CHOSEN = 'test2'\n",
    "\n",
    "def load_model(model_choosen):\n",
    "    match(model_choosen):\n",
    "        case 'homemade':\n",
    "            model = homemade.build(IMG_SIZE)\n",
    "        case 'vae':\n",
    "            model = builder_vae.build(IMG_SIZE, 64)\n",
    "        case 'test2':\n",
    "            model = test2.build(IMG_SIZE)\n",
    "        case 'test3':\n",
    "            model = test3.build(IMG_SIZE)\n",
    "        case 'resnet':\n",
    "            model = resnet.build(IMG_SIZE)\n",
    "    return model\n",
    "autoencoder = load_model(MODEL_CHOSEN)\n",
    "autoencoder.summary()"
   ]
  },
  {
   "cell_type": "markdown",
   "metadata": {
    "id": "K4w2DyFE3z3M"
   },
   "source": [
    "### Entrainement de l'auto-encodeur"
   ]
  },
  {
   "cell_type": "markdown",
   "metadata": {
    "id": "BHnPwSlj3z3N"
   },
   "source": [
    "On va ensuite entraîner l'auto-encodeur en utilisant les constantes définit au début (`NB_EPOCHS_DENOISE,BATCH_SIZE`)"
   ]
  },
  {
   "cell_type": "code",
   "execution_count": 8,
   "metadata": {},
   "outputs": [
    {
     "name": "stdout",
     "output_type": "stream",
     "text": [
      "2000\n"
     ]
    }
   ],
   "source": [
    "print(len(random_train_set))\n"
   ]
  },
  {
   "cell_type": "code",
   "execution_count": 9,
   "metadata": {
    "id": "FLeiM12J7shx",
    "notebookRunGroups": {
     "groupValue": "1"
    }
   },
   "outputs": [
    {
     "name": "stdout",
     "output_type": "stream",
     "text": [
      "Epoch 1/3\n"
     ]
    },
    {
     "name": "stderr",
     "output_type": "stream",
     "text": [
      "2023-10-17 13:01:26.200088: E tensorflow/core/grappler/optimizers/meta_optimizer.cc:961] layout failed: INVALID_ARGUMENT: Size of values 0 does not match size of permutation 4 @ fanin shape inmodel/dropout/dropout/SelectV2-2-TransposeNHWCToNCHW-LayoutOptimizer\n",
      "2023-10-17 13:01:27.057001: I tensorflow/compiler/xla/stream_executor/cuda/cuda_dnn.cc:442] Loaded cuDNN version 8600\n",
      "2023-10-17 13:01:33.946667: I tensorflow/compiler/xla/service/service.cc:168] XLA service 0x7fa8b6c19da0 initialized for platform CUDA (this does not guarantee that XLA will be used). Devices:\n",
      "2023-10-17 13:01:33.946734: I tensorflow/compiler/xla/service/service.cc:176]   StreamExecutor device (0): Quadro P4000, Compute Capability 6.1\n",
      "2023-10-17 13:01:33.952109: I tensorflow/compiler/mlir/tensorflow/utils/dump_mlir_util.cc:269] disabling MLIR crash reproducer, set env var `MLIR_CRASH_REPRODUCER_DIRECTORY` to enable.\n",
      "2023-10-17 13:01:34.043702: I ./tensorflow/compiler/jit/device_compiler.h:186] Compiled cluster using XLA!  This line is logged at most once for the lifetime of the process.\n",
      "2023-10-17 13:01:35.141864: W tensorflow/tsl/framework/bfc_allocator.cc:296] Allocator (GPU_0_bfc) ran out of memory trying to allocate 4.13GiB with freed_by_count=0. The caller indicates that this is not a failure, but this may mean that there could be performance gains if more memory were available.\n",
      "2023-10-17 13:01:41.537185: W tensorflow/tsl/framework/bfc_allocator.cc:296] Allocator (GPU_0_bfc) ran out of memory trying to allocate 4.22GiB with freed_by_count=0. The caller indicates that this is not a failure, but this may mean that there could be performance gains if more memory were available.\n"
     ]
    },
    {
     "name": "stdout",
     "output_type": "stream",
     "text": [
      "2000/2000 [==============================] - 1463s 723ms/step - loss: 0.0030 - accuracy: 0.7990 - val_loss: 0.0045 - val_accuracy: 0.7905\n",
      "Epoch 2/3\n",
      "2000/2000 [==============================] - 1485s 742ms/step - loss: 0.0019 - accuracy: 0.8164 - val_loss: 0.0042 - val_accuracy: 0.7963\n",
      "Epoch 3/3\n",
      "2000/2000 [==============================] - 1491s 745ms/step - loss: 0.0017 - accuracy: 0.8186 - val_loss: 0.0043 - val_accuracy: 0.8025\n"
     ]
    }
   ],
   "source": [
    "# path = createTrainingData.create_training_data(weight_path, model, model_choosen, num_classes, image_h, image_w, batch_size)\n",
    "\n",
    "# checkpoint_path = path+\"/cp-{epoch:04d}.ckpt\"\n",
    "# checkpoint_dir = os.path.dirname(checkpoint_path)\n",
    "\n",
    "# weights_callback = tf.keras.callbacks.ModelCheckpoint(\n",
    "#     filepath=checkpoint_path,\n",
    "#     verbose=1,\n",
    "#     save_weights_only=True,\n",
    "#     save_freq='epoch')\n",
    "\n",
    "# history = model.fit(train_set, epochs=epochs, validation_data=test_set, callbacks=[weights_callback])\n",
    "\n",
    "history = autoencoder.fit(\n",
    "    random_train_set,\n",
    "    epochs=3,\n",
    "    shuffle=True,\n",
    "    validation_data=random_test_set\n",
    ")"
   ]
  },
  {
   "cell_type": "markdown",
   "metadata": {
    "id": "OZEugG4_AKzb"
   },
   "source": [
    "Affichez maintenant la courbe d'apprentissage. Que pensez-vous des performances du modèle ?"
   ]
  },
  {
   "cell_type": "code",
   "execution_count": null,
   "metadata": {},
   "outputs": [],
   "source": [
    "epochs_range = range()\n",
    "acc = history.history['accuracy']\n",
    "val_acc = history.history['val_accuracy']\n",
    "\n",
    "loss = history.history['loss']\n",
    "val_loss = history.history['val_loss']\n",
    "\n",
    "\n",
    "plt.figure(figsize=(16, 8))\n",
    "plt.subplot(1, 2, 1)\n",
    "plt.plot(epochs_range, acc, label='Training Accuracy')\n",
    "plt.plot(epochs_range, val_acc, label='Validation Accuracy')\n",
    "plt.legend(loc='lower right')\n",
    "plt.title('Training and Validation Accuracy')\n",
    "\n",
    "plt.subplot(1, 2, 2)\n",
    "plt.plot(epochs_range, loss, label='Training Loss')\n",
    "plt.plot(epochs_range, val_loss, label='Validation Loss')\n",
    "plt.legend(loc='upper right')\n",
    "plt.title('Training and Validation Loss')\n",
    "\n",
    "plt.savefig(path+\"/metrics.png\")\n",
    "\n",
    "plt.show()"
   ]
  },
  {
   "cell_type": "code",
   "execution_count": 10,
   "metadata": {},
   "outputs": [],
   "source": [
    "model_weight_path = SAVE_WEIGHTS_PATH + 'test2/weights_all_noise_150px.h5' "
   ]
  },
  {
   "cell_type": "code",
   "execution_count": 11,
   "metadata": {},
   "outputs": [],
   "source": [
    "autoencoder.save_weights(model_weight_path)"
   ]
  },
  {
   "cell_type": "markdown",
   "metadata": {},
   "source": []
  },
  {
   "cell_type": "code",
   "execution_count": null,
   "metadata": {},
   "outputs": [],
   "source": [
    "autoencoder.load_weights(model_weight_path)"
   ]
  },
  {
   "cell_type": "code",
   "execution_count": null,
   "metadata": {},
   "outputs": [],
   "source": [
    "pred = autoencoder.predict(x_test_noisy)    "
   ]
  },
  {
   "cell_type": "code",
   "execution_count": null,
   "metadata": {},
   "outputs": [],
   "source": [
    "image_index = 1\n",
    "batch_index = 1\n",
    "load_test_data_noised(1)\n",
    "original_image = list(x_test.take(batch_index).as_numpy_iterator())[0][0][image_index]\n",
    "noisy_image = list(x_test_noisy.take(batch_index).as_numpy_iterator())[0][0][image_index]\n",
    "denoised_image = pred[image_index]\n",
    "\n",
    "\n",
    "display_three_images(original_image, noisy_image, denoised_image)"
   ]
  },
  {
   "cell_type": "code",
   "execution_count": null,
   "metadata": {},
   "outputs": [],
   "source": [
    "loss, accuracy = autoencoder.evaluate(random_test_set)"
   ]
  },
  {
   "cell_type": "code",
   "execution_count": 28,
   "metadata": {},
   "outputs": [
    {
     "name": "stdout",
     "output_type": "stream",
     "text": [
      "125/125 [==============================] - 19s 153ms/step - loss: 0.0062 - accuracy: 0.7216\n",
      "125/125 [==============================] - 19s 153ms/step - loss: 0.0078 - accuracy: 0.8305\n",
      "125/125 [==============================] - 20s 157ms/step - loss: 0.0010 - accuracy: 0.8109\n",
      "125/125 [==============================] - 19s 155ms/step - loss: 0.0020 - accuracy: 0.8472\n",
      "500/500 [==============================] - 83s 165ms/step - loss: 0.0043 - accuracy: 0.8026\n"
     ]
    }
   ],
   "source": [
    "test_sets = {\n",
    "    'noisy': x_test_noisy,\n",
    "    'blur': x_test_blur,\n",
    "    'noise_blur': x_test_noise_blur,\n",
    "    'clean': x_test_clean,\n",
    "    'overall': random_test_set\n",
    "}\n",
    "results = {}\n",
    "accuracy = {}\n",
    "loss = {}\n",
    "for test_set_name in test_sets:\n",
    "    loss[test_set_name], accuracy[test_set_name] = autoencoder.evaluate(test_sets[test_set_name])"
   ]
  },
  {
   "cell_type": "code",
   "execution_count": 33,
   "metadata": {},
   "outputs": [
    {
     "data": {
      "image/png": "[encoded data removed]",
      "text/plain": [
       "<Figure size 640x480 with 1 Axes>"
      ]
     },
     "metadata": {},
     "output_type": "display_data"
    },
    {
     "data": {
      "image/png": "[encoded data removed]",
      "text/plain": [
       "<Figure size 640x480 with 1 Axes>"
      ]
     },
     "metadata": {},
     "output_type": "display_data"
    }
   ],
   "source": [
    "# plot the accuracy for each test set in different color for each bar in the accuracy dictionary\n",
    "colors = ['b', 'g', 'r', 'c', 'm', 'y', 'k']\n",
    "bars = plt.bar(range(len(accuracy)), list(accuracy.values()), align='center', color=colors, alpha=0.8, width=0.5)\n",
    "plt.xticks(range(len(accuracy)), list(accuracy.keys()))\n",
    "# for bar, acc in zip(bars, accuracy):\n",
    "#     plt.text(bar.get_x() + bar.get_width() / 2, accuracy[acc], f'{accuracy[acc]:.2f}', ha='center', va='bottom')\n",
    "print(\"arrête de rire\")\n",
    "print(\"caca boudin\")\n",
    "\n",
    "plt.title('Accuracy for each test set')\n",
    "# plt.savefig(path+\"/accuracy.png\")\n",
    "plt.show()\n",
    "\n",
    "plt.bar(range(len(loss)), list(loss.values()), align='center', color=colors, alpha=0.8, width=0.5)\n",
    "plt.xticks(range(len(loss)), list(loss.keys()))\n",
    "# for bar, key in zip(bars, loss):\n",
    "#     plt.text(bar.get_x() + bar.get_width() / 2, loss[key], f'{loss[key]:.2f}', ha='center', va='bottom')\n",
    "plt.title('Loss for each test set')\n",
    "# plt.savefig(path+\"/accuracy.png\")\n",
    "plt.show()\n",
    "\n",
    "\n",
    "\n",
    "\n",
    "\n",
    "\n",
    "\n",
    "\n",
    "\n",
    "\n",
    "\n",
    "\n",
    "\n"
   ]
  },
  {
   "cell_type": "code",
   "execution_count": null,
   "metadata": {},
   "outputs": [],
   "source": [
    "p = autoencoder.predict(list(x_test.take(1).as_numpy_iterator())[0][0][3:][0].reshape(1,224,224,3))\n",
    "\n",
    "display_images(list(x_test.take(1).as_numpy_iterator())[0][0][3:], n=1)\n",
    "display_images(p, n=1)"
   ]
  },
  {
   "cell_type": "code",
   "execution_count": null,
   "metadata": {
    "colab": {
     "base_uri": "https://localhost:8080/",
     "height": 282
    },
    "id": "Oib6nOUB_t-A",
    "outputId": "5bbf833e-0879-4dd6-f290-3e4b604f971d"
   },
   "outputs": [],
   "source": [
    "# Visualisation des pertes d'apprentissage (Train) et de validation (Test)\n",
    "plt.plot( #A COMPLETER\n",
    "         label='train')\n",
    "plt.plot( #A COMPLETER\n",
    "         label='test')\n",
    "plt.legend()"
   ]
  },
  {
   "cell_type": "markdown",
   "metadata": {
    "id": "isdgF8Fw3z3W"
   },
   "source": [
    "Que pensez-vous des performances du modèle ?\n",
    "<em>À COMPLÉTER</em>\n",
    "\n",
    "\n",
    "# 1.4 Sauvgarde de l'auto-encodeur"
   ]
  },
  {
   "cell_type": "markdown",
   "metadata": {
    "id": "lacVdNs93z3Y"
   },
   "source": [
    "L'entrainement de l'auto-encodeur sans utilisation de puissance de calcul (GPU) peut prendre beaucoup de temps. Usuellement, nous sauvegardons le modèle entraîné en local ou sur un serveur distant pour l'utiliser ultérieurement afin de traiter les nouvelles données (d'ailleurs, vous verrez une utilisation avancée de cette technique, le transfert learning, dès la semaine prochaine).\n",
    "Pour sauvegarder le modèle `autoencoder`, utiliser la méthode `save`."
   ]
  },
  {
   "cell_type": "code",
   "execution_count": null,
   "metadata": {
    "id": "cH0sl-AZ3z3Z"
   },
   "outputs": [],
   "source": [
    "# save the model\n",
    "#A COMPLETER\n"
   ]
  },
  {
   "cell_type": "code",
   "execution_count": null,
   "metadata": {
    "id": "YgZ7ckxd3z3a"
   },
   "outputs": [],
   "source": [
    "decoded_imgs = #A COMPLETER\n"
   ]
  },
  {
   "cell_type": "code",
   "execution_count": null,
   "metadata": {
    "colab": {
     "base_uri": "https://localhost:8080/",
     "height": 149
    },
    "id": "qjbGN2FX3z3a",
    "outputId": "b96c53b9-2af7-4f7d-8ab5-9fd55ae77504"
   },
   "outputs": [],
   "source": []
  },
  {
   "cell_type": "code",
   "execution_count": null,
   "metadata": {
    "id": "3IEX6qSH3z3b"
   },
   "outputs": [],
   "source": []
  }
 ],
 "metadata": {
  "accelerator": "GPU",
  "colab": {
   "collapsed_sections": [
    "sgKOfLjd3z3b"
   ],
   "name": "WS 2.3 - Autoencodeur et traitement d'image- Tuteur.ipynb",
   "provenance": []
  },
  "kernelspec": {
   "display_name": "Python 3 (ipykernel)",
   "language": "python",
   "name": "python3"
  },
  "language_info": {
   "codemirror_mode": {
    "name": "ipython",
    "version": 3
   },
   "file_extension": ".py",
   "mimetype": "text/x-python",
   "name": "python",
   "nbconvert_exporter": "python",
   "pygments_lexer": "ipython3",
   "version": "3.11.0rc1"
  },
  "latex_envs": {
   "LaTeX_envs_menu_present": true,
   "autoclose": false,
   "autocomplete": true,
   "bibliofile": "biblio.bib",
   "cite_by": "apalike",
   "current_citInitial": 1,
   "eqLabelWithNumbers": true,
   "eqNumInitial": 1,
   "hotkeys": {
    "equation": "Ctrl-E",
    "itemize": "Ctrl-I"
   },
   "labels_anchors": false,
   "latex_user_defs": false,
   "report_style_numbering": false,
   "user_envs_cfg": false
  }
 },
 "nbformat": 4,
 "nbformat_minor": 1
}
